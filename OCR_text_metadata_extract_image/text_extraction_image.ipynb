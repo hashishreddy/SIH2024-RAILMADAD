{
 "cells": [
  {
   "cell_type": "code",
   "execution_count": 5,
   "metadata": {},
   "outputs": [
    {
     "name": "stdout",
     "output_type": "stream",
     "text": [
      "PREFACE\n",
      "\n",
      "Handbook means reference book listing brief facts on a\n",
      "subject. So, to facilitate the students in this we have\n",
      "released this Handbook of Mathematics. This book has\n",
      "been prepared to serve the special purpose of the students,\n",
      "to rectify any query or any concern point of a particular\n",
      "subject.\n",
      "\n",
      "This book will be of highly use whether students are\n",
      "looking for a quick revision before the board exams or just\n",
      "before other examinations like Engineering Entrances or\n",
      "any similar examination, they will find that this handbook\n",
      "will answer their needs admirably.\n",
      "\n"
     ]
    }
   ],
   "source": [
    "import matplotlib.pyplot as plt\n",
    "from PIL import Image\n",
    "from io import BytesIO\n",
    "import pytesseract\n",
    "\n",
    "def extract_text_from_images(image_paths):\n",
    "    image_content = []\n",
    "    \n",
    "    for index, image_path in enumerate(image_paths):\n",
    "        image = Image.open(image_path)\n",
    "        raw_text = str(pytesseract.image_to_string(image))\n",
    "        image_content.append(raw_text)\n",
    "    \n",
    "    return \"\\n\".join(image_content)\n",
    "\n",
    "# Replace with your image file paths\n",
    "image_paths = ['image9.jpg']\n",
    "\n",
    "text_from_images = extract_text_from_images(image_paths)\n",
    "\n",
    "print(text_from_images)"
   ]
  }
 ],
 "metadata": {
  "kernelspec": {
   "display_name": "base",
   "language": "python",
   "name": "python3"
  },
  "language_info": {
   "codemirror_mode": {
    "name": "ipython",
    "version": 3
   },
   "file_extension": ".py",
   "mimetype": "text/x-python",
   "name": "python",
   "nbconvert_exporter": "python",
   "pygments_lexer": "ipython3",
   "version": "3.10.9"
  }
 },
 "nbformat": 4,
 "nbformat_minor": 2
}
