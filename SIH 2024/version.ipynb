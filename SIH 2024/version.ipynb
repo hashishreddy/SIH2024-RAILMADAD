{
 "cells": [
  {
   "cell_type": "code",
   "execution_count": 1,
   "metadata": {},
   "outputs": [],
   "source": [
    "from llama_index.core.tools import FunctionTool\n",
    "from llama_index.llms.groq import Groq\n",
    "\n",
    "llm = Groq(model=\"llama3-8b-8192\", api_key=\"\")"
   ]
  },
  {
   "cell_type": "code",
   "execution_count": 2,
   "metadata": {},
   "outputs": [
    {
     "ename": "SyntaxError",
     "evalue": "expected ':' (1666621451.py, line 4)",
     "output_type": "error",
     "traceback": [
      "\u001b[1;36m  Cell \u001b[1;32mIn[2], line 4\u001b[1;36m\u001b[0m\n\u001b[1;33m    def complaint_classifier()\u001b[0m\n\u001b[1;37m                              ^\u001b[0m\n\u001b[1;31mSyntaxError\u001b[0m\u001b[1;31m:\u001b[0m expected ':'\n"
     ]
    }
   ],
   "source": [
    "from typing import Dict, Optional\n",
    "from datetime import datetime\n",
    "\n",
    "def complaint_classifier():\n",
    "\n",
    "\n",
    "get_rail_madad_complaint_tool = FunctionTool.from_defaults(fn=get_rail_madad_complaint_data)\n"
   ]
  },
  {
   "cell_type": "code",
   "execution_count": 5,
   "metadata": {},
   "outputs": [],
   "source": [
    "from llama_index.core.agent import ReActAgent, FunctionCallingAgentWorker\n",
    "\n",
    "react_agent = ReActAgent.from_tools(tools=[get_rail_madad_complaint_tool],llm=llm, verbose=True)"
   ]
  },
  {
   "cell_type": "code",
   "execution_count": 6,
   "metadata": {},
   "outputs": [
    {
     "name": "stdout",
     "output_type": "stream",
     "text": [
      "> Running step 63b8b838-5590-4104-a556-828f6d6be74d. Step input: Hi\n",
      "\u001b[1;3;34mObservation: Error: Could not parse output. Please follow the thought-action-input format. Try again.\n",
      "\u001b[0m> Running step 9c91d08d-6a9a-4f8f-a8d9-0c88b3e5107e. Step input: None\n",
      "\u001b[1;3;34mObservation: Error: Could not parse output. Please follow the thought-action-input format. Try again.\n",
      "\u001b[0m> Running step 1517a6e1-b96a-489f-b3a8-b5c635a3a163. Step input: None\n",
      "\u001b[1;3;34mObservation: Error: Could not parse output. Please follow the thought-action-input format. Try again.\n",
      "\u001b[0m> Running step b618e14f-b3ab-4903-9438-5a2e45c48361. Step input: None\n",
      "\u001b[1;3;38;5;200mThought: The current language of the user is: unknown. I need to use a tool to help me answer the question.\n",
      "Action: get_rail_madad_complaint_data\n",
      "Action Input: {}\n",
      "\u001b[0m\u001b[1;3;34mObservation: {'mobile_number': '93989969680', 'current_date_time': '2024-09-03 21:33:11', 'train_number': '12169', 'problem_description': 'dn ajdn fojnafljn fjibfiulnsiljfn osnfjnefbnc fouenefviunvf fijunvfkjbnfviunsf efvoihnfsvifev', 'department': 'electrical'}\n",
      "\u001b[0m> Running step e24a2cfb-8599-4214-a2eb-f3e2c6786cd8. Step input: None\n",
      "\u001b[1;3;38;5;200mThought: The user has provided input for the get_rail_madad_complaint_data tool. I will use this input to collect customer complaints or inquiries for the Rail Madad platform.\n",
      "Action: get_rail_madad_complaint_data\n",
      "Action Input: {'mobile_number': '93989969680', 'train_number': '12169', 'problem_description': 'dn ajdn fojnafljn fjibfiulnsiljfn osnfjnefbnc fouenefviunvf fijunvfkjbnfviunsf efvoihnfsvifev', 'department': 'electrical'}\n",
      "\u001b[0m\u001b[1;3;34mObservation: {'mobile_number': '93989969680', 'current_date_time': '2024-09-03 21:33:11', 'train_number': '12169', 'problem_description': 'dn ajdn fojnafljn fjibfiulnsiljfn osnfjnefbnc fouenefviunvf fijunvfkjbnfviunsf efvoihnfsvifev', 'department': 'electrical'}\n",
      "\u001b[0m> Running step eca5c2ae-676b-49d2-ab9b-c8e2198f78bc. Step input: None\n",
      "\u001b[1;3;38;5;200mThought: I can answer without using any more tools. I'll use the user's language to answer\n",
      "Answer: The Rail Madad platform has received a complaint from the mobile number 93989969680 regarding the train number 12169. The problem description is \"dn ajdn fojnafljn fjibfiulnsiljfn osnfjnefbnc fouenefviunvf fijunvfkjbnfviunsf efvoihnfsvifev\" and it belongs to the electrical department.\n",
      "\u001b[0mBot :  The Rail Madad platform has received a complaint from the mobile number 93989969680 regarding the train number 12169. The problem description is \"dn ajdn fojnafljn fjibfiulnsiljfn osnfjnefbnc fouenefviunvf fijunvfkjbnfviunsf efvoihnfsvifev\" and it belongs to the electrical department.\n",
      "Goodbye!\n"
     ]
    }
   ],
   "source": [
    "while True:\n",
    "    user_input = input(\"You : \")\n",
    "    if user_input.lower() == \"quit\":\n",
    "        print(\"Goodbye!\")\n",
    "        break\n",
    "\n",
    "    response = react_agent.chat(user_input)\n",
    "    print(\"Bot : \" , response)"
   ]
  }
 ],
 "metadata": {
  "kernelspec": {
   "display_name": "Python 3",
   "language": "python",
   "name": "python3"
  },
  "language_info": {
   "codemirror_mode": {
    "name": "ipython",
    "version": 3
   },
   "file_extension": ".py",
   "mimetype": "text/x-python",
   "name": "python",
   "nbconvert_exporter": "python",
   "pygments_lexer": "ipython3",
   "version": "3.10.7"
  }
 },
 "nbformat": 4,
 "nbformat_minor": 2
}
